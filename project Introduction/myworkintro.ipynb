{
 "cells": [
  {
   "cell_type": "markdown",
   "metadata": {},
   "source": [
    "> ## Note\n",
    "Apologies, but I did not use the `nltk` package for some of the tasks. Instead, I used `TextBlob` for sentiment analysis, `spaCy` for various text processing tasks, and `syllapy` for counting syllables in words."
   ]
  },
  {
   "cell_type": "markdown",
   "metadata": {},
   "source": [
    "# Data Extraction\n",
    "\n",
    "## Overview\n",
    "The data extraction phase involves retrieving textual content from a list of URLs provided in an Excel file. This process focuses on extracting the title and body of articles from each URL, ensuring the content is saved for further analysis.\n",
    "\n",
    "## Process\n",
    "\n",
    "1. **Read Input File**: Load the list of URLs and their associated IDs from `Input.xlsx`.\n",
    "\n",
    "2. **Extract Article Content**:\n",
    "   - **Fetch Page**: Use HTTP requests to retrieve the HTML content of each URL.\n",
    "   - **Parse HTML**: Use BeautifulSoup to parse the HTML and extract the article's title and body.\n",
    "   - **Handle Errors**: Manage potential errors such as network issues or missing content.\n",
    "\n",
    "3. **Save Extracted Data**:\n",
    "   - **File Naming**: Save the extracted content to a text file named with the URL_ID.\n",
    "   - **Error Handling**: Ensure proper handling of file I/O operations to prevent data loss.\n",
    "\n",
    "## Implementation\n",
    "The extraction process is implemented in Python, leveraging libraries such as `requests` for HTTP requests and `BeautifulSoup` for HTML parsing. Each article's title and body are saved in separate text files for ease of access during subsequent analysis stages."
   ]
  },
  {
   "cell_type": "markdown",
   "metadata": {},
   "source": [
    "# Project Completion\n",
    "\n",
    "## Introduction\n",
    "In this project, I completed the data extraction and analysis tasks as outlined in the assignment. The goal was to extract textual data from given URLs, perform sentiment and readability analysis, and present the results in the specified format.\n",
    "\n",
    "## Completed Tasks\n",
    "\n",
    "### 1. Data Extraction\n",
    "- **Input Handling**: Loaded the list of URLs and IDs from `Input.xlsx`.\n",
    "- **Article Extraction**:\n",
    "  - Used `requests` to fetch the HTML content of each URL.\n",
    "  - Parsed HTML using `BeautifulSoup` to extract the article title and body.\n",
    "  - Saved the extracted content into text files named with `URL_ID`.\n",
    "\n",
    "### 2. Text Analysis\n",
    "- **Sentiment Analysis**:\n",
    "  - Implemented using `TextBlob` and `spaCy` to compute positive, negative, and subjectivity scores.\n",
    "  - Cleaned the text by removing stop words and irrelevant characters.\n",
    "\n",
    "- **Readability Analysis**:\n",
    "  - Calculated average sentence length, percentage of complex words, and the FOG index using the Gunning Fog formula.\n",
    "  - Analyzed average number of words per sentence and complex word count.\n",
    "\n",
    "- **Additional Metrics**:\n",
    "  - Computed word count, syllable count per word, and average word length.\n",
    "  - Identified personal pronouns using regex to ensure accurate counts.\n",
    "\n",
    "### 3. File Management\n",
    "- **Output Generation**:\n",
    "  - Structured the results in CSV or Excel format as specified in `Output Data Structure.xlsx`.\n",
    "  - Managed file naming and storage to ensure consistency and ease of access.\n",
    "\n",
    "### 4. Challenges and Solutions\n",
    "- **Error Handling**:\n",
    "  - Implemented robust error handling for HTTP requests and file operations to manage potential issues.\n",
    "- **Text Processing**:\n",
    "  - Utilized advanced text processing techniques to handle and clean data effectively.\n",
    "\n",
    "## Conclusion\n",
    "The project was successfully completed by following the outlined steps for data extraction and analysis. The results were compiled and formatted as required, ensuring all deliverables were met within the specified timeline."
   ]
  }
 ],
 "metadata": {
  "language_info": {
   "name": "python"
  }
 },
 "nbformat": 4,
 "nbformat_minor": 2
}
